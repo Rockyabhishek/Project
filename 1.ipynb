{
 "cells": [
  {
   "cell_type": "code",
   "execution_count": 1,
   "metadata": {},
   "outputs": [
    {
     "name": "stdout",
     "output_type": "stream",
     "text": [
      "hello\n"
     ]
    }
   ],
   "source": [
    "print('Gamerz')"
   ]
  },
  {
   "cell_type": "code",
   "execution_count": 1,
   "metadata": {},
   "outputs": [],
   "source": [
    "x=None\n"
   ]
  },
  {
   "cell_type": "code",
   "execution_count": 1,
   "metadata": {},
   "outputs": [
    {
     "name": "stdout",
     "output_type": "stream",
     "text": [
      "largest of no is: 67\n"
     ]
    }
   ],
   "source": [
    "list=[23,55,65,2,3,67]\n",
    "print('largest of no is:',max(list))"
   ]
  },
  {
   "cell_type": "code",
   "execution_count": 3,
   "metadata": {},
   "outputs": [
    {
     "name": "stdout",
     "output_type": "stream",
     "text": [
      "outside else\n"
     ]
    }
   ],
   "source": [
    "\n",
    "if 20>30:\n",
    "    if 30>40:\n",
    "        print(\"inside nsted if 1\")\n",
    "        if 40>60:\n",
    "            print(\"inside nested 2\")\n",
    "            if 400>50:\n",
    "                print(\"inside nested 2\")\n",
    "        else:\n",
    "            print(\"inside nested else 2\")\n",
    "    else:\n",
    "        print(\"inside nested else 1\")\n",
    "else:\n",
    "    print(\"outside else\")"
   ]
  },
  {
   "attachments": {},
   "cell_type": "markdown",
   "metadata": {},
   "source": [
    "2.greater than"
   ]
  },
  {
   "cell_type": "code",
   "execution_count": 6,
   "metadata": {},
   "outputs": [
    {
     "name": "stdout",
     "output_type": "stream",
     "text": [
      "a and b and c is equal\n"
     ]
    }
   ],
   "source": [
    "a=10\n",
    "b=10\n",
    "c=10\n",
    "if(a>b):\n",
    "    if a>c:\n",
    "        print(\"a is largest\")\n",
    "    else:\n",
    "        print(\"b is largest\")\n",
    "elif(b>c):\n",
    "    print(\"b is largest\")\n",
    "elif a==b or b==c or c==a :\n",
    "    print(\"a and b and c is equal\")\n",
    "else:\n",
    "    print(\"c is largest\")"
   ]
  },
  {
   "attachments": {},
   "cell_type": "markdown",
   "metadata": {},
   "source": [
    "for loop"
   ]
  },
  {
   "cell_type": "code",
   "execution_count": 30,
   "metadata": {},
   "outputs": [
    {
     "name": "stdout",
     "output_type": "stream",
     "text": [
      "5\n",
      "4\n",
      "3\n",
      "2\n",
      "1\n"
     ]
    }
   ],
   "source": [
    "l1=[1,2,3,4,5,]\n",
    "\n",
    "for i in range(len(l1)-1,-1,-1):\n",
    "    print(l1[i])\n",
    "  "
   ]
  },
  {
   "cell_type": "code",
   "execution_count": 32,
   "metadata": {},
   "outputs": [
    {
     "name": "stdout",
     "output_type": "stream",
     "text": [
      "1\n",
      "2\n",
      "3\n",
      "4\n",
      "5\n"
     ]
    }
   ],
   "source": [
    "li=[1,2,3,4,5,6,7,8,9,10]\n",
    "\n",
    "myIterator=iter(li)\n",
    "\n",
    "print(next(myIterator))\n",
    "print(next(myIterator))\n",
    "print(next(myIterator))\n",
    "print(next(myIterator))\n",
    "print(next(myIterator))"
   ]
  },
  {
   "attachments": {},
   "cell_type": "markdown",
   "metadata": {},
   "source": [
    "while loop"
   ]
  },
  {
   "cell_type": "code",
   "execution_count": 37,
   "metadata": {},
   "outputs": [
    {
     "name": "stdout",
     "output_type": "stream",
     "text": [
      "inside\n",
      "inside\n",
      "inside\n",
      "breaking loop\n",
      "am outside now\n"
     ]
    }
   ],
   "source": [
    "i=5\n",
    "while i>0:\n",
    "    print(\"inside\")\n",
    "    i=i-1\n",
    "    if(i<3):\n",
    "        print(\"breaking loop\")\n",
    "        break\n",
    "print(\"am outside now\")\n"
   ]
  },
  {
   "attachments": {},
   "cell_type": "markdown",
   "metadata": {},
   "source": [
    "continue"
   ]
  },
  {
   "cell_type": "code",
   "execution_count": 39,
   "metadata": {},
   "outputs": [
    {
     "name": "stdout",
     "output_type": "stream",
     "text": [
      "0\n",
      "1\n",
      "2\n",
      "3\n",
      "4\n",
      "skipped 5\n",
      "skipped 6\n",
      "7\n",
      "8\n",
      "9\n"
     ]
    }
   ],
   "source": [
    "for i in range(10):\n",
    "    if i==5 or i==6:\n",
    "        print(\"skipped\",i)\n",
    "        continue\n",
    "    print(i)"
   ]
  },
  {
   "attachments": {},
   "cell_type": "markdown",
   "metadata": {},
   "source": [
    "eldest person"
   ]
  },
  {
   "cell_type": "code",
   "execution_count": 1,
   "metadata": {},
   "outputs": [
    {
     "name": "stdout",
     "output_type": "stream",
     "text": [
      "The eldest person's age is: 30\n"
     ]
    }
   ],
   "source": [
    "age1 = int(input(\"Enter first person's age: \"))\n",
    "age2 = int(input(\"Enter second person's age: \"))\n",
    "age3 = int(input(\"Enter third person's age: \"))\n",
    "\n",
    "\n",
    "if age1 >= age2 and age1 >= age3:\n",
    "    eldest = age1\n",
    "elif age2 >= age1 and age2 >= age3:\n",
    "    eldest = age2\n",
    "else:\n",
    "    eldest = age3\n",
    "\n",
    "print(\"The eldest person's age is:\", eldest)"
   ]
  },
  {
   "attachments": {},
   "cell_type": "markdown",
   "metadata": {},
   "source": [
    "positive or negetive"
   ]
  },
  {
   "cell_type": "code",
   "execution_count": 2,
   "metadata": {},
   "outputs": [
    {
     "name": "stdout",
     "output_type": "stream",
     "text": [
      "The number is positive\n"
     ]
    }
   ],
   "source": [
    "num = float(input(\"Enter a number: \"))\n",
    "\n",
    "# check if the number is positive or negative\n",
    "if num > 0:\n",
    "    print(\"The number is positive\")\n",
    "elif num == 0:\n",
    "    print(\"The number is zero\")\n",
    "else:\n",
    "    print(\"The number is negative\")"
   ]
  },
  {
   "attachments": {},
   "cell_type": "markdown",
   "metadata": {},
   "source": [
    "prime no"
   ]
  },
  {
   "cell_type": "code",
   "execution_count": 5,
   "metadata": {},
   "outputs": [
    {
     "name": "stdout",
     "output_type": "stream",
     "text": [
      "5 is a prime number\n"
     ]
    }
   ],
   "source": [
    "num = int(input(\"Enter a number: \"))\n",
    "\n",
    "\n",
    "if num > 1:\n",
    "    for i in range(2, num):\n",
    "        if (num % i) == 0:\n",
    "            print(num, \"is not a prime number\")\n",
    "            break\n",
    "    else:\n",
    "        print(num, \"is a prime number\")\n",
    "else:\n",
    "    print(num, \"is not a prime number\")"
   ]
  },
  {
   "attachments": {},
   "cell_type": "markdown",
   "metadata": {},
   "source": [
    "operators"
   ]
  },
  {
   "cell_type": "code",
   "execution_count": 7,
   "metadata": {},
   "outputs": [
    {
     "name": "stdout",
     "output_type": "stream",
     "text": [
      "11.0 + 2.0 = 13.0\n"
     ]
    }
   ],
   "source": [
    "num1 = float(input(\"Enter first number: \"))\n",
    "num2 = float(input(\"Enter second number: \"))\n",
    "operator = input(\"Enter operator (+, -, *, /): \")\n",
    "\n",
    "\n",
    "if operator == '+':\n",
    "    result = num1 + num2\n",
    "elif operator == '-':\n",
    "    result = num1 - num2\n",
    "elif operator == '*':\n",
    "    result = num1 * num2\n",
    "elif operator == '/':\n",
    "    result = num1 / num2\n",
    "else:\n",
    "    print(\"Invalid operator\")\n",
    "    \n",
    "\n",
    "print(num1, operator, num2, \"=\", result)"
   ]
  },
  {
   "attachments": {},
   "cell_type": "markdown",
   "metadata": {},
   "source": [
    "marks"
   ]
  },
  {
   "cell_type": "code",
   "execution_count": 9,
   "metadata": {},
   "outputs": [
    {
     "name": "stdout",
     "output_type": "stream",
     "text": [
      "Sorry, you have failed the exam.\n"
     ]
    }
   ],
   "source": [
    "score = int(input(\"Enter your score: \"))\n",
    "\n",
    "if score >= 60:\n",
    "    print(\"Congratulations, you have passed the exam!\")\n",
    "else:\n",
    "    print(\"Sorry, you have failed the exam.\")"
   ]
  },
  {
   "attachments": {},
   "cell_type": "markdown",
   "metadata": {},
   "source": [
    "functions"
   ]
  },
  {
   "cell_type": "code",
   "execution_count": 10,
   "metadata": {},
   "outputs": [
    {
     "name": "stdout",
     "output_type": "stream",
     "text": [
      "sum= 50\n"
     ]
    }
   ],
   "source": [
    "def add(a,b):\n",
    "    sum=a+b\n",
    "   \n",
    "    return sum\n",
    "answer=add(20,30)\n",
    "print(\"sum=\",answer)"
   ]
  },
  {
   "attachments": {},
   "cell_type": "markdown",
   "metadata": {},
   "source": [
    "map"
   ]
  },
  {
   "cell_type": "code",
   "execution_count": 14,
   "metadata": {},
   "outputs": [
    {
     "name": "stdout",
     "output_type": "stream",
     "text": [
      "(('A', 10), ('B', 81), ('c', 3), ('D', 4), ('E', 5))\n"
     ]
    }
   ],
   "source": [
    "name=['A','B','c','D','E']\n",
    "roll_no=[10,81,3,4,5]\n",
    "\n",
    "zipped=zip(name,roll_no)\n",
    "\n",
    "print(tuple(zipped))"
   ]
  },
  {
   "cell_type": "code",
   "execution_count": 15,
   "metadata": {},
   "outputs": [
    {
     "name": "stdout",
     "output_type": "stream",
     "text": [
      "{('Preetham', 5), ('abhi', 1), ('Dp', 4), ('Hataf', 6)}\n"
     ]
    }
   ],
   "source": [
    "name=[\"abhi\",\"Dp\",\"Preetham\",\"Hataf\"]\n",
    "roll_no=[1,4,5,6,]\n",
    "mapped=zip(name,roll_no)\n",
    "print(set(mapped))"
   ]
  },
  {
   "cell_type": "code",
   "execution_count": 9,
   "metadata": {},
   "outputs": [
    {
     "name": "stdout",
     "output_type": "stream",
     "text": [
      "odd\n"
     ]
    }
   ],
   "source": [
    "def fun(x):\n",
    "    if x%2==0:\n",
    "        return(\"even\")\n",
    "    else:\n",
    "        print(\"odd\")\n",
    "ans=fun(5)"
   ]
  },
  {
   "attachments": {},
   "cell_type": "markdown",
   "metadata": {},
   "source": [
    "calculate area of triangle"
   ]
  },
  {
   "cell_type": "code",
   "execution_count": 20,
   "metadata": {},
   "outputs": [
    {
     "name": "stdout",
     "output_type": "stream",
     "text": [
      "The area of the triangle is: 1.0\n"
     ]
    }
   ],
   "source": [
    "def area1(base, height):\n",
    "   \n",
    "    area = 0.5 * base * height\n",
    "    return area\n",
    "\n",
    "base = float(input(\"Enter the base of the triangle: \"))\n",
    "height = float(input(\"Enter the height of the triangle: \"))\n",
    "\n",
    "tri_area = area1(base, height)\n",
    "\n",
    "\n",
    "print(\"The area of the triangle is:\", tri_area)"
   ]
  },
  {
   "cell_type": "code",
   "execution_count": 7,
   "metadata": {},
   "outputs": [
    {
     "name": "stdout",
     "output_type": "stream",
     "text": [
      "21.000000000000014\n"
     ]
    }
   ],
   "source": [
    "def compound_interest():\n",
    "    p=float(input(\"enter principal amount\"))\n",
    "    t=float(input(\"enter the time\"))\n",
    "    rate=float(input(\"enter rate of interest\"))\n",
    "    a=p*(1+(rate/100))**t\n",
    "    CI=a-p\n",
    "    return CI\n",
    "\n",
    "result=compound_interest()\n",
    "print(result)"
   ]
  },
  {
   "attachments": {},
   "cell_type": "markdown",
   "metadata": {},
   "source": [
    "simple int"
   ]
  },
  {
   "cell_type": "code",
   "execution_count": 8,
   "metadata": {},
   "outputs": [
    {
     "name": "stdout",
     "output_type": "stream",
     "text": [
      "20.0\n"
     ]
    }
   ],
   "source": [
    "def simple_interest():\n",
    "    p=float(input(\"enter principal amount\"))\n",
    "    t=float(input(\"enter the time\"))\n",
    "    r=float(input(\"enter rate of interest\"))\n",
    "    SI=(p*t*r)/100\n",
    "    return SI\n",
    "\n",
    "result=simple_interest()\n",
    "print(result)"
   ]
  },
  {
   "attachments": {},
   "cell_type": "markdown",
   "metadata": {},
   "source": [
    "circle"
   ]
  },
  {
   "cell_type": "code",
   "execution_count": 2,
   "metadata": {},
   "outputs": [
    {
     "name": "stdout",
     "output_type": "stream",
     "text": [
      "AREA OF CIRCLE 12.568\n"
     ]
    }
   ],
   "source": [
    "def area():\n",
    "    r=float(input(\"enter the Radius\"))\n",
    "    area=(3.142*r*r)\n",
    "    return area\n",
    "\n",
    "area1=area()\n",
    "print(\"AREA OF CIRCLE\",area1)"
   ]
  },
  {
   "attachments": {},
   "cell_type": "markdown",
   "metadata": {},
   "source": [
    "swap"
   ]
  },
  {
   "cell_type": "code",
   "execution_count": 4,
   "metadata": {},
   "outputs": [
    {
     "name": "stdout",
     "output_type": "stream",
     "text": [
      "before swapping 12 2\n",
      "after swapping 2 12\n"
     ]
    }
   ],
   "source": [
    "def swap():\n",
    "    a=int(input(\"enter the no a\"))\n",
    "    b=int(input(\"enter the no b\"))\n",
    "    print(\"before swapping\",a,b)\n",
    "    tm=a\n",
    "    a=b\n",
    "    b=tm\n",
    "    print(\"after swapping\",a,b)\n",
    "swap()"
   ]
  },
  {
   "attachments": {},
   "cell_type": "markdown",
   "metadata": {},
   "source": [
    "km"
   ]
  },
  {
   "cell_type": "code",
   "execution_count": 5,
   "metadata": {},
   "outputs": [
    {
     "name": "stdout",
     "output_type": "stream",
     "text": [
      "12.42\n"
     ]
    }
   ],
   "source": [
    "def km():\n",
    "    k=float(input(\"Enter the kilometer\"))\n",
    "\n",
    "\n",
    "\n",
    "    miles=k*0.621\n",
    "    return miles\n",
    "\n",
    "result=km()\n",
    "print(result)"
   ]
  },
  {
   "attachments": {},
   "cell_type": "markdown",
   "metadata": {},
   "source": [
    "enumerate"
   ]
  },
  {
   "cell_type": "code",
   "execution_count": 2,
   "metadata": {},
   "outputs": [
    {
     "name": "stdout",
     "output_type": "stream",
     "text": [
      "[(0, 'A'), (1, 'b'), (2, 'c')]\n"
     ]
    }
   ],
   "source": [
    "l1=['A','b','c']\n",
    "obj1=enumerate(l1)\n",
    "\n",
    "print(list(obj1))"
   ]
  },
  {
   "attachments": {},
   "cell_type": "markdown",
   "metadata": {},
   "source": [
    "amazon"
   ]
  },
  {
   "cell_type": "code",
   "execution_count": 2,
   "metadata": {},
   "outputs": [
    {
     "name": "stdout",
     "output_type": "stream",
     "text": [
      "Take Care Good Night\n",
      "Whoop!\n",
      "Wedding Cha Shinema\n",
      "Viswasam\n",
      "Virus\n",
      "Vicky Velingkar\n",
      "Triple Seat (4K UHD)\n",
      "Touch Chesi Chudu\n",
      "Tiger Zinda Hai\n",
      "Student of the Year 2\n",
      "Sonu Ke Titu Ki Sweety\n",
      "Smile Please\n",
      "Sketchy Behaviour\n",
      "Sita\n",
      "Shakuntala Devi\n",
      "Shaadi Mubarak\n",
      "Savyasachi\n",
      "Sakka Podu Podu Raja\n",
      "Rustum\n",
      "Rangasthalam\n",
      "Raazi\n",
      "Problems\n",
      "Petromax\n",
      "Pari\n",
      "Pagalpanti\n",
      "Padmaavat\n",
      "Odeya (4K UHD)\n",
      "Odeya\n",
      "Notebook\n",
      "NGK\n",
      "Neeti Palta - Almost Sanskari\n",
      "Nawabzaade\n",
      "Mumbai Pune Mumbai 3\n",
      "Muklawa\n",
      "Mr. Family Man\n",
      "Monster\n",
      "Missing\n",
      "Middle Class Melodies\n",
      "MCA (Middle Class Abbayi)\n",
      "Mathu Vadalara\n",
      "Luv Ka The End\n",
      "LAW\n",
      "Kesari\n",
      "Kapatadhaari (4K UHD)\n",
      "Kapatadhaari\n",
      "Kalank\n",
      "Kadaikutty Singam\n",
      "Kabadadaari (4K UHD)\n",
      "Kabadadaari\n",
      "Ishqeria\n",
      "Ishq\n",
      "Ishaqzaade\n",
      "Hero\n",
      "Hello Guru Prema Kosame\n",
      "Gumnaami - Hindi\n",
      "Gulabo Sitabo (4K UHD)\n",
      "Goyenda Junior\n",
      "Goodachari\n",
      "Girlz\n",
      "Ghawre Bairey Aaj\n",
      "Generation Aami\n",
      "French Biriyani\n",
      "Falaknuma Das\n",
      "F2 - Fun and Frustration\n",
      "Enai Noki Paayum Thota\n",
      "DSP DEV\n",
      "Drishyam 2\n",
      "Dhoom\n",
      "Dhadak\n",
      "Dear Comrade\n",
      "Coolie No. 1\n",
      "Choricha Mamla\n",
      "Chhalaang\n",
      "C U Soon (4K UHD)\n",
      "C U Soon\n",
      "Bornoporichoy\n",
      "Blackmail\n",
      "Bhoot Part One - The Haunted Ship\n",
      "Bhoot Chaturdashi\n",
      "Bharat\n",
      "Ayogya\n",
      "Aadai\n",
      "102 Not Out\n",
      "Maara\n",
      "Anbirkiniyal\n",
      "Tumhari Sulu\n",
      "Srinivasa Kalyanam\n",
      "Shubh Mangal Zyada Saavdhan\n",
      "Satyameva Jayate\n",
      "Raatchasi\n",
      "Putham Pudhu Kaalai\n",
      "Mitron\n",
      "Mardaani 2\n",
      "Evaru\n",
      "Durgamati - The Myth\n",
      "Driving Licence\n",
      "Coolie No. 1 (4K UHD)\n",
      "Asuran\n",
      "Fanney Khan\n",
      "Chhalaang (4K UHD)\n",
      "Gulabo Sitabo\n",
      "Ninnu Kori\n",
      "Ye Re Ye Re Paisa 2\n",
      "Boyz 2\n",
      "Biswa Kalyan Rath: Sushi\n",
      "The Priest\n",
      "Beta\n",
      "Officer\n",
      "Pataakha\n",
      "Anu Menon: Wonder Menon\n",
      "Raabta\n",
      "Saina\n",
      "Nene Raju Nene Mantri\n",
      "Roberrt (4K UHD)\n",
      "Roberrt\n",
      "Rohan Joshi: Wake N Bake\n",
      "Adithya Varma\n",
      "Wajah Tum Ho\n",
      "Teraa Surroor\n",
      "Simran\n",
      "Sarbjit\n",
      "Noor\n",
      "Junooniyat\n",
      "Hindi Medium\n",
      "Chef\n",
      "Bhoomi\n",
      "Mumbai Saga\n",
      "Rock On\n",
      "Karwaan\n",
      "Nizhal\n",
      "Good Newwz\n",
      "Karnan\n",
      "Saathiya\n",
      "Sandeep Aur Pinky Faraar\n",
      "Major Ajay Krishna\n",
      "Krishnan\n",
      "Antardwand\n",
      "Yeh Dillagi\n",
      "Theri\n",
      "Tashan\n",
      "Sketch\n",
      "Silsila\n",
      "SI 3\n",
      "Raja The Great\n",
      "Rab Ne Bana Di Jodi\n",
      "Raaz Reboot\n",
      "Ponmagal Vandhal\n",
      "OK Jaanu\n",
      "Noorie\n",
      "Mujhse Fraaandship Karoge\n",
      "Meri Pyaari Bindu\n",
      "Mere Brother Ki Dulhan\n",
      "Mashaal\n",
      "Mardaani\n",
      "Maanagaram\n",
      "Lamhe\n",
      "Kal Ho Naa Ho\n",
      "Kabul Express\n",
      "Kabali\n",
      "Kaashmora\n",
      "Joker\n",
      "Jab Tak Hai Jaan\n",
      "Halal Love Story\n",
      "George Reddy\n",
      "Fanaa\n",
      "Fan\n",
      "Dilwale Dulhania Le Jayenge\n",
      "Dil Bole Hadippa\n",
      "Darr\n",
      "Daag\n",
      "Chandni\n",
      "Begum Jaan\n",
      "Befikre\n",
      "Band Baaja Baaraat\n",
      "Badrinath Ki Dulhania\n",
      "Bachna Ae Haseeno\n",
      "Ae Dil Hai Mushkil\n",
      "Adhe Kangal\n",
      "Aamhi Doghi\n",
      "Aaja Nachle\n",
      "Aaina\n",
      "Bokya Satbande\n",
      "Ek Mini Katha\n",
      "Ladies vs Ricky Bahl\n",
      "Bewakoofiyaan\n",
      "Love Games\n",
      "Koi Jaane Na\n",
      "Duniyadari\n",
      "Aashiqui\n",
      "Be Dune Saade Chaar\n",
      "Aalas Motaapa Ghabraahat\n",
      "Tula Shikwin Changlach Dhada\n",
      "Ungli\n",
      "Shaandaar\n",
      "Kuch Kuch Hota Hai\n",
      "Kabhi Khushi Kabhie Gham\n",
      "Kabhi Alvida Naa Kehna\n",
      "Duniya\n",
      "Prem Qaidi\n",
      "Ek Tha Tiger (English Subtitled)\n",
      "Zabardast\n",
      "Toofaan\n",
      "Full 3 Dhamaal\n",
      "Anari\n",
      "Jatra\n",
      "Mere Dad Ki Maruti\n",
      "Raja The Great (Malayalam)\n",
      "Chashme Bahaddar\n",
      "The Priest (Telugu)\n",
      "Aashiqui 2\n",
      "The Priest (Tamil)\n",
      "Sunny (4K UHD)\n",
      "Sunny\n"
     ]
    }
   ],
   "source": [
    "import csv\n",
    "with open(\"C:/excel/ex.csv\",\"r\")as amazon:\n",
    "    file=csv.reader(amazon)\n",
    "    \n",
    "    for i in file:\n",
    "        if i[1]==\"Movie\":\n",
    "            if i[5]==\"India\":\n",
    "                print(i[2])"
   ]
  },
  {
   "cell_type": "code",
   "execution_count": 3,
   "metadata": {},
   "outputs": [
    {
     "name": "stdout",
     "output_type": "stream",
     "text": [
      "The Grand Seduction\n",
      "Global Meltdown\n",
      "Forest Fairies\n",
      "The Wild Horse Redemption\n",
      "The Hollow Child\n",
      "Shadow Company\n",
      "No Place to Hide: The Rehtaeh Parsons Story\n",
      "Griefwalker\n",
      "Dawn Rider\n",
      "Amal\n",
      "The Real Inglorious Bastards\n",
      "Out of Mind, Out of Sight\n",
      "The Rape of Nanking\n",
      "We Were Children\n",
      "Suck\n",
      "Giant Little Ones\n"
     ]
    }
   ],
   "source": [
    "import csv\n",
    "with open(\"C:/excel/ex.csv\",\"r\")as amazon:\n",
    "    file=csv.reader(amazon)\n",
    "    \n",
    "    for i in file:\n",
    "        if i[1]==\"Movie\":\n",
    "            if i[5]==\"Canada\":\n",
    "                print(i[2])"
   ]
  },
  {
   "cell_type": "code",
   "execution_count": 4,
   "metadata": {},
   "outputs": [
    {
     "name": "stdout",
     "output_type": "stream",
     "text": [
      "The Night Eats The World\n",
      "Brutus vs Cesar\n"
     ]
    }
   ],
   "source": [
    "import csv\n",
    "with open(\"C:/excel/ex.csv\",\"r\")as amazon:\n",
    "    file=csv.reader(amazon)\n",
    "    \n",
    "    for i in file:\n",
    "        if i[1]==\"Movie\":\n",
    "            if i[5]==\"France\":\n",
    "                print(i[2])"
   ]
  },
  {
   "cell_type": "code",
   "execution_count": 25,
   "metadata": {},
   "outputs": [
    {
     "name": "stdout",
     "output_type": "stream",
     "text": [
      "Resilencia\n",
      "Wounded by the wind\n",
      "Historias lamentables\n"
     ]
    }
   ],
   "source": [
    "import csv\n",
    "with open(\"C:/excel/ex.csv\",\"r\")as amazon:\n",
    "    file=csv.reader(amazon)\n",
    "    \n",
    "    for i in file:\n",
    "        if i[1]==\"Movie\":\n",
    "            if i[5]==\"Spain\":\n",
    "                print(i[2])"
   ]
  },
  {
   "cell_type": "code",
   "execution_count": 21,
   "metadata": {},
   "outputs": [
    {
     "name": "stdout",
     "output_type": "stream",
     "text": [
      "Secrets of Deception\n",
      "Pink: Staying True\n",
      "Hired Gun\n",
      "Grease Live!\n",
      "David's Mother\n",
      "Take Care\n",
      "Summer '03\n",
      "Vows of Deception\n",
      "Under the Boardwalk: The Monopoly Story\n",
      "UFOs - The Secret History\n",
      "True Colors\n",
      "Transit\n",
      "Tortilla Soup\n",
      "To Catch a Thief\n",
      "Ticker\n",
      "Three Wishes\n",
      "The Wereth Eleven\n",
      "The Wedding Year\n",
      "The Vast of Night\n",
      "The Parallax View\n",
      "The Nutty Professor (1963)\n",
      "The Monster Squad\n",
      "The Legend of Swee' Pea\n",
      "The Last Sharknado: It's About Time\n",
      "The Last Black Man in San Francisco (4K UHD)\n",
      "The Court Jester\n",
      "The Bridgewater Triangle\n",
      "Super Size Me 2: Holy Chicken!\n",
      "Super Size Me\n",
      "Sunshine Hotel\n",
      "Stagecoach - The Original John Wayne Classic\n",
      "Song One\n",
      "Soapdish\n",
      "Sleepwalker\n",
      "Sharknado 4: The 4th Awakens\n",
      "Selah and the Spades\n",
      "Same Kind of Different as Me\n",
      "Powder Blue\n",
      "Pink Heat\n",
      "Pass Over\n",
      "Night of the Running Man\n",
      "Night Falls on Manhattan\n",
      "Mr. Imperium\n",
      "Maximum Ride\n",
      "Love, Kennedy\n",
      "Love Simple\n",
      "Knights of Badassdom\n",
      "Joni\n",
      "Hostile Border\n",
      "Honest Thief\n",
      "Harold and Maude\n",
      "Green is Gold\n",
      "Gleason\n",
      "Gimme Danger\n",
      "Generation Wealth\n",
      "Falcon Rising\n",
      "ETs Among Us: UFO Witnesses and Whistleblowers\n",
      "ETs Among Us 2: Our Alien Origins, Antarctica, Mars and Beyond\n",
      "Crips and Bloods: Made in America\n",
      "Cool World\n",
      "City of Ghosts\n",
      "Chocolate City\n",
      "Chicken People\n",
      "Catch Hell\n",
      "Brad's Status\n",
      "Boynton Beach Club\n",
      "Blow The Man Down\n",
      "Black Robe\n",
      "Beyond the Sky\n",
      "Be Somebody\n",
      "Barista\n",
      "Ashley\n",
      "Any Day Now\n",
      "A Girl Like Her\n",
      "36 Husbands\n",
      "The Mothman of Point Pleasant\n",
      "The Goldfinch\n",
      "The Big Sick\n",
      "Midnight Crossing\n",
      "Never Surrender: A Galaxy Quest Documentary\n",
      "Blood Fest\n",
      "The Last Black Man in San Francisco\n",
      "The Identical\n",
      "The Hiding Place\n",
      "The Busy Little Engine\n",
      "Resurrection of Jake The Snake\n",
      "Primal Rage\n",
      "Painted Horses\n",
      "It's A Wonderful Life (Black & White Version)\n",
      "Dead Space: Aftermath\n",
      "Can We Take a Joke?\n",
      "The Wall\n",
      "Manhunt: Search for the Night Stalker\n",
      "Milk Money\n",
      "Time\n",
      "Dudes & Dragons\n",
      "Sharknado 2: The Second One\n",
      "Next\n",
      "Little Secrets\n",
      "World Trade Center\n",
      "Wonderstruck\n",
      "The Pollinators\n",
      "It's A Wonderful Life\n",
      "Trust Me\n",
      "Nocturne\n",
      "Jeff, Who Lives at Home\n",
      "Plato's Reality Machine\n",
      "Jade\n",
      "Uncle Frank\n",
      "Chemical Hearts\n",
      "One Child Nation\n",
      "Late Night\n",
      "Crown Heights\n",
      "Available\n",
      "Manchester by the Sea\n",
      "Mike Case in: The Big Kiss Off\n",
      "The Manchurian Candidate (2004)\n",
      "Brother Nature\n",
      "Guava Island\n",
      "Voyage to the Planet of Prehistoric Women\n",
      "Goblin\n",
      "At Granny's House\n",
      "Without a Paddle: Nature's Calling\n",
      "You Belong to Me: Sex, Race and Murder in the South\n",
      "I'm Your Woman\n",
      "P!nk: All I Know So Far\n",
      "Sharknado\n",
      "Knives Out (4K UHD)\n",
      "Twilight\n",
      "Little White Lie\n",
      "Human experiments\n",
      "Heartburn\n",
      "The Lie\n",
      "Sylvie's Love\n",
      "One Night in Miami...\n",
      "Knives Out\n",
      "I See You\n",
      "Black Box\n",
      "Beautiful Boy\n",
      "Evil Eye\n",
      "Devil's Island\n",
      "The Map of Tiny Perfect Things\n",
      "Sound of Metal\n",
      "Sharing the Secret\n",
      "LOL\n",
      "Copper Bill\n",
      "The Tomorrow War\n",
      "Minority Report\n",
      "Our Friend\n",
      "Lo and Behold, Reveries of the Connected World\n",
      "In the Year 2889\n",
      "At the Fork\n",
      "A Lonely Woman\n",
      "Separate Lives\n",
      "Secret Window\n",
      "Patriot Games (4K UHD)\n",
      "Finding Ophelia\n",
      "Emerald Run\n",
      "Dawn of the Beast\n",
      "The Florentine\n",
      "Tracers\n",
      "Let's Dream\n",
      "The Dangerous Lives of Altar Boys\n",
      "Nancy\n",
      "Permanent Midnight\n",
      "He Who Lives In Hidden Lakes\n",
      "Montana\n",
      "Santa Who?\n",
      "Patriot Games\n",
      "Big Mommas: Like Father, Like Son\n",
      "Armageddon\n",
      "Dirty 30\n",
      "Blue Mountain State: The Rise Of Thadland\n",
      "Stuart Little 2\n",
      "She's Out of My League\n",
      "Experimenter\n",
      "Ape vs. Monster\n",
      "The Report\n",
      "An American Girl Story: Summer Camp, Friends For Life\n",
      "Windcroft\n",
      "Last Action Hero (4K UHD)\n",
      "Last Action Hero\n",
      "Heartbreakers\n",
      "Exorcist: The Beginning\n",
      "Die Hard\n",
      "Top Five\n",
      "Wishmaster\n",
      "Die Hard 2 (4K UHD)\n",
      "Basement Jack\n",
      "Bride Wars\n",
      "What Happens in Vegas\n",
      "Marley & Me\n",
      "Love & Other Drugs\n",
      "Little Miss Sunshine\n"
     ]
    }
   ],
   "source": [
    "import csv\n",
    "with open(\"C:/excel/ex.csv\",\"r\")as amazon:\n",
    "    file=csv.reader(amazon)\n",
    "    \n",
    "    for i in file:\n",
    "        if i[1]==\"Movie\":\n",
    "            if i[5]==\"United States\":\n",
    "                print(i[2])"
   ]
  },
  {
   "attachments": {},
   "cell_type": "markdown",
   "metadata": {},
   "source": [
    "#what is the game of rating?"
   ]
  },
  {
   "cell_type": "code",
   "execution_count": 4,
   "metadata": {},
   "outputs": [
    {
     "name": "stdout",
     "output_type": "stream",
     "text": [
      "Times Listed\n"
     ]
    }
   ],
   "source": [
    "import csv\n",
    "with open(\"C:/Games/games.csv\",\"r\")as games:\n",
    "    file=csv.reader(games)\n",
    "    \n",
    "    for i in file:\n",
    "        if i[1]==\"Title\":\n",
    "            if i[9]==\"Reviews\":\n",
    "                print(i[5])"
   ]
  },
  {
   "cell_type": "code",
   "execution_count": 1,
   "metadata": {},
   "outputs": [],
   "source": [
    "import csv\n",
    "with open(\"C:/Users/abhis/OneDrive/Desktop/cars.csv\",\"r\")as cars:\n",
    "    file=csv.reader(cars)\n",
    "    \n",
    "    for i in file:\n",
    "        if i[0]==\"Car Make\":\n",
    "            if i[1]==\"Car Model\":\n",
    "                print(i[4])"
   ]
  }
 ],
 "metadata": {
  "kernelspec": {
   "display_name": "base",
   "language": "python",
   "name": "python3"
  },
  "language_info": {
   "codemirror_mode": {
    "name": "ipython",
    "version": 3
   },
   "file_extension": ".py",
   "mimetype": "text/x-python",
   "name": "python",
   "nbconvert_exporter": "python",
   "pygments_lexer": "ipython3",
   "version": "3.9.13"
  },
  "orig_nbformat": 4,
  "vscode": {
   "interpreter": {
    "hash": "c78599019583e1cc8ec8211fef8090213879948681afdf9098fe61079571de81"
   }
  }
 },
 "nbformat": 4,
 "nbformat_minor": 2
}
