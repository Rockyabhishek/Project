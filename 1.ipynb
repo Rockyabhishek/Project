{
 "cells": [
  {
   "cell_type": "code",
   "execution_count": 1,
   "metadata": {},
   "outputs": [
    {
     "name": "stdout",
     "output_type": "stream",
     "text": [
      "hello\n"
     ]
    }
   ],
   "source": [
    "print('Gamerz')"
   ]
  },
  {
   "cell_type": "code",
   "execution_count": 1,
   "metadata": {},
   "outputs": [],
   "source": [
    "x=None\n"
   ]
  },
  {
   "cell_type": "code",
   "execution_count": 1,
   "metadata": {},
   "outputs": [
    {
     "name": "stdout",
     "output_type": "stream",
     "text": [
      "largest of no is: 67\n"
     ]
    }
   ],
   "source": [
    "list=[23,55,65,2,3,67]\n",
    "print('largest of no is:',max(list))"
   ]
  },
  {
   "cell_type": "code",
   "execution_count": 3,
   "metadata": {},
   "outputs": [
    {
     "name": "stdout",
     "output_type": "stream",
     "text": [
      "outside else\n"
     ]
    }
   ],
   "source": [
    "\n",
    "if 20>30:\n",
    "    if 30>40:\n",
    "        print(\"inside nsted if 1\")\n",
    "        if 40>60:\n",
    "            print(\"inside nested 2\")\n",
    "            if 400>50:\n",
    "                print(\"inside nested 2\")\n",
    "        else:\n",
    "            print(\"inside nested else 2\")\n",
    "    else:\n",
    "        print(\"inside nested else 1\")\n",
    "else:\n",
    "    print(\"outside else\")"
   ]
  },
  {
   "attachments": {},
   "cell_type": "markdown",
   "metadata": {},
   "source": [
    "2.greater than"
   ]
  },
  {
   "cell_type": "code",
   "execution_count": 6,
   "metadata": {},
   "outputs": [
    {
     "name": "stdout",
     "output_type": "stream",
     "text": [
      "a and b and c is equal\n"
     ]
    }
   ],
   "source": [
    "a=10\n",
    "b=10\n",
    "c=10\n",
    "if(a>b):\n",
    "    if a>c:\n",
    "        print(\"a is largest\")\n",
    "    else:\n",
    "        print(\"b is largest\")\n",
    "elif(b>c):\n",
    "    print(\"b is largest\")\n",
    "elif a==b or b==c or c==a :\n",
    "    print(\"a and b and c is equal\")\n",
    "else:\n",
    "    print(\"c is largest\")"
   ]
  },
  {
   "attachments": {},
   "cell_type": "markdown",
   "metadata": {},
   "source": [
    "for loop"
   ]
  },
  {
   "cell_type": "code",
   "execution_count": 30,
   "metadata": {},
   "outputs": [
    {
     "name": "stdout",
     "output_type": "stream",
     "text": [
      "5\n",
      "4\n",
      "3\n",
      "2\n",
      "1\n"
     ]
    }
   ],
   "source": [
    "l1=[1,2,3,4,5,]\n",
    "\n",
    "for i in range(len(l1)-1,-1,-1):\n",
    "    print(l1[i])\n",
    "  "
   ]
  },
  {
   "cell_type": "code",
   "execution_count": 32,
   "metadata": {},
   "outputs": [
    {
     "name": "stdout",
     "output_type": "stream",
     "text": [
      "1\n",
      "2\n",
      "3\n",
      "4\n",
      "5\n"
     ]
    }
   ],
   "source": [
    "li=[1,2,3,4,5,6,7,8,9,10]\n",
    "\n",
    "myIterator=iter(li)\n",
    "\n",
    "print(next(myIterator))\n",
    "print(next(myIterator))\n",
    "print(next(myIterator))\n",
    "print(next(myIterator))\n",
    "print(next(myIterator))"
   ]
  },
  {
   "attachments": {},
   "cell_type": "markdown",
   "metadata": {},
   "source": [
    "while loop"
   ]
  },
  {
   "cell_type": "code",
   "execution_count": 37,
   "metadata": {},
   "outputs": [
    {
     "name": "stdout",
     "output_type": "stream",
     "text": [
      "inside\n",
      "inside\n",
      "inside\n",
      "breaking loop\n",
      "am outside now\n"
     ]
    }
   ],
   "source": [
    "i=5\n",
    "while i>0:\n",
    "    print(\"inside\")\n",
    "    i=i-1\n",
    "    if(i<3):\n",
    "        print(\"breaking loop\")\n",
    "        break\n",
    "print(\"am outside now\")\n"
   ]
  },
  {
   "attachments": {},
   "cell_type": "markdown",
   "metadata": {},
   "source": [
    "continue"
   ]
  },
  {
   "cell_type": "code",
   "execution_count": 39,
   "metadata": {},
   "outputs": [
    {
     "name": "stdout",
     "output_type": "stream",
     "text": [
      "0\n",
      "1\n",
      "2\n",
      "3\n",
      "4\n",
      "skipped 5\n",
      "skipped 6\n",
      "7\n",
      "8\n",
      "9\n"
     ]
    }
   ],
   "source": [
    "for i in range(10):\n",
    "    if i==5 or i==6:\n",
    "        print(\"skipped\",i)\n",
    "        continue\n",
    "    print(i)"
   ]
  },
  {
   "attachments": {},
   "cell_type": "markdown",
   "metadata": {},
   "source": [
    "eldest person"
   ]
  },
  {
   "cell_type": "code",
   "execution_count": 1,
   "metadata": {},
   "outputs": [
    {
     "name": "stdout",
     "output_type": "stream",
     "text": [
      "The eldest person's age is: 30\n"
     ]
    }
   ],
   "source": [
    "age1 = int(input(\"Enter first person's age: \"))\n",
    "age2 = int(input(\"Enter second person's age: \"))\n",
    "age3 = int(input(\"Enter third person's age: \"))\n",
    "\n",
    "\n",
    "if age1 >= age2 and age1 >= age3:\n",
    "    eldest = age1\n",
    "elif age2 >= age1 and age2 >= age3:\n",
    "    eldest = age2\n",
    "else:\n",
    "    eldest = age3\n",
    "\n",
    "print(\"The eldest person's age is:\", eldest)"
   ]
  },
  {
   "attachments": {},
   "cell_type": "markdown",
   "metadata": {},
   "source": [
    "positive or negetive"
   ]
  },
  {
   "cell_type": "code",
   "execution_count": 2,
   "metadata": {},
   "outputs": [
    {
     "name": "stdout",
     "output_type": "stream",
     "text": [
      "The number is positive\n"
     ]
    }
   ],
   "source": [
    "num = float(input(\"Enter a number: \"))\n",
    "\n",
    "# check if the number is positive or negative\n",
    "if num > 0:\n",
    "    print(\"The number is positive\")\n",
    "elif num == 0:\n",
    "    print(\"The number is zero\")\n",
    "else:\n",
    "    print(\"The number is negative\")"
   ]
  },
  {
   "attachments": {},
   "cell_type": "markdown",
   "metadata": {},
   "source": [
    "prime no"
   ]
  },
  {
   "cell_type": "code",
   "execution_count": 5,
   "metadata": {},
   "outputs": [
    {
     "name": "stdout",
     "output_type": "stream",
     "text": [
      "5 is a prime number\n"
     ]
    }
   ],
   "source": [
    "num = int(input(\"Enter a number: \"))\n",
    "\n",
    "\n",
    "if num > 1:\n",
    "    for i in range(2, num):\n",
    "        if (num % i) == 0:\n",
    "            print(num, \"is not a prime number\")\n",
    "            break\n",
    "    else:\n",
    "        print(num, \"is a prime number\")\n",
    "else:\n",
    "    print(num, \"is not a prime number\")"
   ]
  },
  {
   "attachments": {},
   "cell_type": "markdown",
   "metadata": {},
   "source": [
    "operators"
   ]
  },
  {
   "cell_type": "code",
   "execution_count": 7,
   "metadata": {},
   "outputs": [
    {
     "name": "stdout",
     "output_type": "stream",
     "text": [
      "11.0 + 2.0 = 13.0\n"
     ]
    }
   ],
   "source": [
    "num1 = float(input(\"Enter first number: \"))\n",
    "num2 = float(input(\"Enter second number: \"))\n",
    "operator = input(\"Enter operator (+, -, *, /): \")\n",
    "\n",
    "\n",
    "if operator == '+':\n",
    "    result = num1 + num2\n",
    "elif operator == '-':\n",
    "    result = num1 - num2\n",
    "elif operator == '*':\n",
    "    result = num1 * num2\n",
    "elif operator == '/':\n",
    "    result = num1 / num2\n",
    "else:\n",
    "    print(\"Invalid operator\")\n",
    "    \n",
    "\n",
    "print(num1, operator, num2, \"=\", result)"
   ]
  },
  {
   "attachments": {},
   "cell_type": "markdown",
   "metadata": {},
   "source": [
    "marks"
   ]
  },
  {
   "cell_type": "code",
   "execution_count": 9,
   "metadata": {},
   "outputs": [
    {
     "name": "stdout",
     "output_type": "stream",
     "text": [
      "Sorry, you have failed the exam.\n"
     ]
    }
   ],
   "source": [
    "score = int(input(\"Enter your score: \"))\n",
    "\n",
    "if score >= 60:\n",
    "    print(\"Congratulations, you have passed the exam!\")\n",
    "else:\n",
    "    print(\"Sorry, you have failed the exam.\")"
   ]
  },
  {
   "attachments": {},
   "cell_type": "markdown",
   "metadata": {},
   "source": [
    "functions"
   ]
  },
  {
   "cell_type": "code",
   "execution_count": 10,
   "metadata": {},
   "outputs": [
    {
     "name": "stdout",
     "output_type": "stream",
     "text": [
      "sum= 50\n"
     ]
    }
   ],
   "source": [
    "def add(a,b):\n",
    "    sum=a+b\n",
    "   \n",
    "    return sum\n",
    "answer=add(20,30)\n",
    "print(\"sum=\",answer)"
   ]
  },
  {
   "attachments": {},
   "cell_type": "markdown",
   "metadata": {},
   "source": [
    "map"
   ]
  },
  {
   "cell_type": "code",
   "execution_count": 14,
   "metadata": {},
   "outputs": [
    {
     "name": "stdout",
     "output_type": "stream",
     "text": [
      "(('A', 10), ('B', 81), ('c', 3), ('D', 4), ('E', 5))\n"
     ]
    }
   ],
   "source": [
    "name=['A','B','c','D','E']\n",
    "roll_no=[10,81,3,4,5]\n",
    "\n",
    "zipped=zip(name,roll_no)\n",
    "\n",
    "print(tuple(zipped))"
   ]
  },
  {
   "cell_type": "code",
   "execution_count": 15,
   "metadata": {},
   "outputs": [
    {
     "name": "stdout",
     "output_type": "stream",
     "text": [
      "{('Preetham', 5), ('abhi', 1), ('Dp', 4), ('Hataf', 6)}\n"
     ]
    }
   ],
   "source": [
    "name=[\"abhi\",\"Dp\",\"Preetham\",\"Hataf\"]\n",
    "roll_no=[1,4,5,6,]\n",
    "mapped=zip(name,roll_no)\n",
    "print(set(mapped))"
   ]
  },
  {
   "cell_type": "code",
   "execution_count": 9,
   "metadata": {},
   "outputs": [
    {
     "name": "stdout",
     "output_type": "stream",
     "text": [
      "odd\n"
     ]
    }
   ],
   "source": [
    "def fun(x):\n",
    "    if x%2==0:\n",
    "        return(\"even\")\n",
    "    else:\n",
    "        print(\"odd\")\n",
    "ans=fun(5)"
   ]
  },
  {
   "attachments": {},
   "cell_type": "markdown",
   "metadata": {},
   "source": [
    "calculate area of triangle"
   ]
  },
  {
   "cell_type": "code",
   "execution_count": 20,
   "metadata": {},
   "outputs": [
    {
     "name": "stdout",
     "output_type": "stream",
     "text": [
      "The area of the triangle is: 1.0\n"
     ]
    }
   ],
   "source": [
    "def area1(base, height):\n",
    "   \n",
    "    area = 0.5 * base * height\n",
    "    return area\n",
    "\n",
    "base = float(input(\"Enter the base of the triangle: \"))\n",
    "height = float(input(\"Enter the height of the triangle: \"))\n",
    "\n",
    "tri_area = area1(base, height)\n",
    "\n",
    "\n",
    "print(\"The area of the triangle is:\", tri_area)"
   ]
  },
  {
   "cell_type": "code",
   "execution_count": 7,
   "metadata": {},
   "outputs": [
    {
     "name": "stdout",
     "output_type": "stream",
     "text": [
      "21.000000000000014\n"
     ]
    }
   ],
   "source": [
    "def compound_interest():\n",
    "    p=float(input(\"enter principal amount\"))\n",
    "    t=float(input(\"enter the time\"))\n",
    "    rate=float(input(\"enter rate of interest\"))\n",
    "    a=p*(1+(rate/100))**t\n",
    "    CI=a-p\n",
    "    return CI\n",
    "\n",
    "result=compound_interest()\n",
    "print(result)"
   ]
  },
  {
   "attachments": {},
   "cell_type": "markdown",
   "metadata": {},
   "source": [
    "simple int"
   ]
  },
  {
   "cell_type": "code",
   "execution_count": 8,
   "metadata": {},
   "outputs": [
    {
     "name": "stdout",
     "output_type": "stream",
     "text": [
      "20.0\n"
     ]
    }
   ],
   "source": [
    "def simple_interest():\n",
    "    p=float(input(\"enter principal amount\"))\n",
    "    t=float(input(\"enter the time\"))\n",
    "    r=float(input(\"enter rate of interest\"))\n",
    "    SI=(p*t*r)/100\n",
    "    return SI\n",
    "\n",
    "result=simple_interest()\n",
    "print(result)"
   ]
  },
  {
   "attachments": {},
   "cell_type": "markdown",
   "metadata": {},
   "source": [
    "circle"
   ]
  },
  {
   "cell_type": "code",
   "execution_count": 2,
   "metadata": {},
   "outputs": [
    {
     "name": "stdout",
     "output_type": "stream",
     "text": [
      "AREA OF CIRCLE 12.568\n"
     ]
    }
   ],
   "source": [
    "def area():\n",
    "    r=float(input(\"enter the Radius\"))\n",
    "    area=(3.142*r*r)\n",
    "    return area\n",
    "\n",
    "area1=area()\n",
    "print(\"AREA OF CIRCLE\",area1)"
   ]
  },
  {
   "attachments": {},
   "cell_type": "markdown",
   "metadata": {},
   "source": [
    "swap"
   ]
  },
  {
   "cell_type": "code",
   "execution_count": 4,
   "metadata": {},
   "outputs": [
    {
     "name": "stdout",
     "output_type": "stream",
     "text": [
      "before swapping 12 2\n",
      "after swapping 2 12\n"
     ]
    }
   ],
   "source": [
    "def swap():\n",
    "    a=int(input(\"enter the no a\"))\n",
    "    b=int(input(\"enter the no b\"))\n",
    "    print(\"before swapping\",a,b)\n",
    "    tm=a\n",
    "    a=b\n",
    "    b=tm\n",
    "    print(\"after swapping\",a,b)\n",
    "swap()"
   ]
  },
  {
   "attachments": {},
   "cell_type": "markdown",
   "metadata": {},
   "source": [
    "km"
   ]
  },
  {
   "cell_type": "code",
   "execution_count": 5,
   "metadata": {},
   "outputs": [
    {
     "name": "stdout",
     "output_type": "stream",
     "text": [
      "12.42\n"
     ]
    }
   ],
   "source": [
    "def km():\n",
    "    k=float(input(\"Enter the kilometer\"))\n",
    "\n",
    "\n",
    "\n",
    "    miles=k*0.621\n",
    "    return miles\n",
    "\n",
    "result=km()\n",
    "print(result)"
   ]
  },
  {
   "attachments": {},
   "cell_type": "markdown",
   "metadata": {},
   "source": [
    "enumerate"
   ]
  },
  {
   "cell_type": "code",
   "execution_count": 2,
   "metadata": {},
   "outputs": [
    {
     "name": "stdout",
     "output_type": "stream",
     "text": [
      "[(0, 'A'), (1, 'b'), (2, 'c')]\n"
     ]
    }
   ],
   "source": [
    "l1=['A','b','c']\n",
    "obj1=enumerate(l1)\n",
    "\n",
    "print(list(obj1))"
   ]
  },
  {
   "attachments": {},
   "cell_type": "markdown",
   "metadata": {},
   "source": [
    "amazon"
   ]
  },
  {
   "cell_type": "code",
   "execution_count": 2,
   "metadata": {},
   "outputs": [
    {
     "name": "stdout",
     "output_type": "stream",
     "text": [
      "Take Care Good Night\n",
      "Whoop!\n",
      "Wedding Cha Shinema\n",
      "Viswasam\n",
      "Virus\n",
      "Vicky Velingkar\n",
      "Triple Seat (4K UHD)\n",
      "Touch Chesi Chudu\n",
      "Tiger Zinda Hai\n",
      "Student of the Year 2\n",
      "Sonu Ke Titu Ki Sweety\n",
      "Smile Please\n",
      "Sketchy Behaviour\n",
      "Sita\n",
      "Shakuntala Devi\n",
      "Shaadi Mubarak\n",
      "Savyasachi\n",
      "Sakka Podu Podu Raja\n",
      "Rustum\n",
      "Rangasthalam\n",
      "Raazi\n",
      "Problems\n",
      "Petromax\n",
      "Pari\n",
      "Pagalpanti\n",
      "Padmaavat\n",
      "Odeya (4K UHD)\n",
      "Odeya\n",
      "Notebook\n",
      "NGK\n",
      "Neeti Palta - Almost Sanskari\n",
      "Nawabzaade\n",
      "Mumbai Pune Mumbai 3\n",
      "Muklawa\n",
      "Mr. Family Man\n",
      "Monster\n",
      "Missing\n",
      "Middle Class Melodies\n",
      "MCA (Middle Class Abbayi)\n",
      "Mathu Vadalara\n",
      "Luv Ka The End\n",
      "LAW\n",
      "Kesari\n",
      "Kapatadhaari (4K UHD)\n",
      "Kapatadhaari\n",
      "Kalank\n",
      "Kadaikutty Singam\n",
      "Kabadadaari (4K UHD)\n",
      "Kabadadaari\n",
      "Ishqeria\n",
      "Ishq\n",
      "Ishaqzaade\n",
      "Hero\n",
      "Hello Guru Prema Kosame\n",
      "Gumnaami - Hindi\n",
      "Gulabo Sitabo (4K UHD)\n",
      "Goyenda Junior\n",
      "Goodachari\n",
      "Girlz\n",
      "Ghawre Bairey Aaj\n",
      "Generation Aami\n",
      "French Biriyani\n",
      "Falaknuma Das\n",
      "F2 - Fun and Frustration\n",
      "Enai Noki Paayum Thota\n",
      "DSP DEV\n",
      "Drishyam 2\n",
      "Dhoom\n",
      "Dhadak\n",
      "Dear Comrade\n",
      "Coolie No. 1\n",
      "Choricha Mamla\n",
      "Chhalaang\n",
      "C U Soon (4K UHD)\n",
      "C U Soon\n",
      "Bornoporichoy\n",
      "Blackmail\n",
      "Bhoot Part One - The Haunted Ship\n",
      "Bhoot Chaturdashi\n",
      "Bharat\n",
      "Ayogya\n",
      "Aadai\n",
      "102 Not Out\n",
      "Maara\n",
      "Anbirkiniyal\n",
      "Tumhari Sulu\n",
      "Srinivasa Kalyanam\n",
      "Shubh Mangal Zyada Saavdhan\n",
      "Satyameva Jayate\n",
      "Raatchasi\n",
      "Putham Pudhu Kaalai\n",
      "Mitron\n",
      "Mardaani 2\n",
      "Evaru\n",
      "Durgamati - The Myth\n",
      "Driving Licence\n",
      "Coolie No. 1 (4K UHD)\n",
      "Asuran\n",
      "Fanney Khan\n",
      "Chhalaang (4K UHD)\n",
      "Gulabo Sitabo\n",
      "Ninnu Kori\n",
      "Ye Re Ye Re Paisa 2\n",
      "Boyz 2\n",
      "Biswa Kalyan Rath: Sushi\n",
      "The Priest\n",
      "Beta\n",
      "Officer\n",
      "Pataakha\n",
      "Anu Menon: Wonder Menon\n",
      "Raabta\n",
      "Saina\n",
      "Nene Raju Nene Mantri\n",
      "Roberrt (4K UHD)\n",
      "Roberrt\n",
      "Rohan Joshi: Wake N Bake\n",
      "Adithya Varma\n",
      "Wajah Tum Ho\n",
      "Teraa Surroor\n",
      "Simran\n",
      "Sarbjit\n",
      "Noor\n",
      "Junooniyat\n",
      "Hindi Medium\n",
      "Chef\n",
      "Bhoomi\n",
      "Mumbai Saga\n",
      "Rock On\n",
      "Karwaan\n",
      "Nizhal\n",
      "Good Newwz\n",
      "Karnan\n",
      "Saathiya\n",
      "Sandeep Aur Pinky Faraar\n",
      "Major Ajay Krishna\n",
      "Krishnan\n",
      "Antardwand\n",
      "Yeh Dillagi\n",
      "Theri\n",
      "Tashan\n",
      "Sketch\n",
      "Silsila\n",
      "SI 3\n",
      "Raja The Great\n",
      "Rab Ne Bana Di Jodi\n",
      "Raaz Reboot\n",
      "Ponmagal Vandhal\n",
      "OK Jaanu\n",
      "Noorie\n",
      "Mujhse Fraaandship Karoge\n",
      "Meri Pyaari Bindu\n",
      "Mere Brother Ki Dulhan\n",
      "Mashaal\n",
      "Mardaani\n",
      "Maanagaram\n",
      "Lamhe\n",
      "Kal Ho Naa Ho\n",
      "Kabul Express\n",
      "Kabali\n",
      "Kaashmora\n",
      "Joker\n",
      "Jab Tak Hai Jaan\n",
      "Halal Love Story\n",
      "George Reddy\n",
      "Fanaa\n",
      "Fan\n",
      "Dilwale Dulhania Le Jayenge\n",
      "Dil Bole Hadippa\n",
      "Darr\n",
      "Daag\n",
      "Chandni\n",
      "Begum Jaan\n",
      "Befikre\n",
      "Band Baaja Baaraat\n",
      "Badrinath Ki Dulhania\n",
      "Bachna Ae Haseeno\n",
      "Ae Dil Hai Mushkil\n",
      "Adhe Kangal\n",
      "Aamhi Doghi\n",
      "Aaja Nachle\n",
      "Aaina\n",
      "Bokya Satbande\n",
      "Ek Mini Katha\n",
      "Ladies vs Ricky Bahl\n",
      "Bewakoofiyaan\n",
      "Love Games\n",
      "Koi Jaane Na\n",
      "Duniyadari\n",
      "Aashiqui\n",
      "Be Dune Saade Chaar\n",
      "Aalas Motaapa Ghabraahat\n",
      "Tula Shikwin Changlach Dhada\n",
      "Ungli\n",
      "Shaandaar\n",
      "Kuch Kuch Hota Hai\n",
      "Kabhi Khushi Kabhie Gham\n",
      "Kabhi Alvida Naa Kehna\n",
      "Duniya\n",
      "Prem Qaidi\n",
      "Ek Tha Tiger (English Subtitled)\n",
      "Zabardast\n",
      "Toofaan\n",
      "Full 3 Dhamaal\n",
      "Anari\n",
      "Jatra\n",
      "Mere Dad Ki Maruti\n",
      "Raja The Great (Malayalam)\n",
      "Chashme Bahaddar\n",
      "The Priest (Telugu)\n",
      "Aashiqui 2\n",
      "The Priest (Tamil)\n",
      "Sunny (4K UHD)\n",
      "Sunny\n"
     ]
    }
   ],
   "source": [
    "import csv\n",
    "with open(\"C:/excel/ex.csv\",\"r\")as amazon:\n",
    "    file=csv.reader(amazon)\n",
    "    \n",
    "    for i in file:\n",
    "        if i[1]==\"Movie\":\n",
    "            if i[5]==\"India\":\n",
    "                print(i[2])"
   ]
  },
  {
   "cell_type": "code",
   "execution_count": 3,
   "metadata": {},
   "outputs": [
    {
     "name": "stdout",
     "output_type": "stream",
     "text": [
      "The Grand Seduction\n",
      "Global Meltdown\n",
      "Forest Fairies\n",
      "The Wild Horse Redemption\n",
      "The Hollow Child\n",
      "Shadow Company\n",
      "No Place to Hide: The Rehtaeh Parsons Story\n",
      "Griefwalker\n",
      "Dawn Rider\n",
      "Amal\n",
      "The Real Inglorious Bastards\n",
      "Out of Mind, Out of Sight\n",
      "The Rape of Nanking\n",
      "We Were Children\n",
      "Suck\n",
      "Giant Little Ones\n"
     ]
    }
   ],
   "source": [
    "import csv\n",
    "with open(\"C:/excel/ex.csv\",\"r\")as amazon:\n",
    "    file=csv.reader(amazon)\n",
    "    \n",
    "    for i in file:\n",
    "        if i[1]==\"Movie\":\n",
    "            if i[5]==\"Canada\":\n",
    "                print(i[2])"
   ]
  },
  {
   "cell_type": "code",
   "execution_count": 4,
   "metadata": {},
   "outputs": [
    {
     "name": "stdout",
     "output_type": "stream",
     "text": [
      "The Night Eats The World\n",
      "Brutus vs Cesar\n"
     ]
    }
   ],
   "source": [
    "import csv\n",
    "with open(\"C:/excel/ex.csv\",\"r\")as amazon:\n",
    "    file=csv.reader(amazon)\n",
    "    \n",
    "    for i in file:\n",
    "        if i[1]==\"Movie\":\n",
    "            if i[5]==\"France\":\n",
    "                print(i[2])"
   ]
  },
  {
   "cell_type": "code",
   "execution_count": 25,
   "metadata": {},
   "outputs": [
    {
     "name": "stdout",
     "output_type": "stream",
     "text": [
      "Resilencia\n",
      "Wounded by the wind\n",
      "Historias lamentables\n"
     ]
    }
   ],
   "source": [
    "import csv\n",
    "with open(\"C:/excel/ex.csv\",\"r\")as amazon:\n",
    "    file=csv.reader(amazon)\n",
    "    \n",
    "    for i in file:\n",
    "        if i[1]==\"Movie\":\n",
    "            if i[5]==\"Spain\":\n",
    "                print(i[2])"
   ]
  },
  {
   "cell_type": "code",
   "execution_count": 21,
   "metadata": {},
   "outputs": [
    {
     "name": "stdout",
     "output_type": "stream",
     "text": [
      "Secrets of Deception\n",
      "Pink: Staying True\n",
      "Hired Gun\n",
      "Grease Live!\n",
      "David's Mother\n",
      "Take Care\n",
      "Summer '03\n",
      "Vows of Deception\n",
      "Under the Boardwalk: The Monopoly Story\n",
      "UFOs - The Secret History\n",
      "True Colors\n",
      "Transit\n",
      "Tortilla Soup\n",
      "To Catch a Thief\n",
      "Ticker\n",
      "Three Wishes\n",
      "The Wereth Eleven\n",
      "The Wedding Year\n",
      "The Vast of Night\n",
      "The Parallax View\n",
      "The Nutty Professor (1963)\n",
      "The Monster Squad\n",
      "The Legend of Swee' Pea\n",
      "The Last Sharknado: It's About Time\n",
      "The Last Black Man in San Francisco (4K UHD)\n",
      "The Court Jester\n",
      "The Bridgewater Triangle\n",
      "Super Size Me 2: Holy Chicken!\n",
      "Super Size Me\n",
      "Sunshine Hotel\n",
      "Stagecoach - The Original John Wayne Classic\n",
      "Song One\n",
      "Soapdish\n",
      "Sleepwalker\n",
      "Sharknado 4: The 4th Awakens\n",
      "Selah and the Spades\n",
      "Same Kind of Different as Me\n",
      "Powder Blue\n",
      "Pink Heat\n",
      "Pass Over\n",
      "Night of the Running Man\n",
      "Night Falls on Manhattan\n",
      "Mr. Imperium\n",
      "Maximum Ride\n",
      "Love, Kennedy\n",
      "Love Simple\n",
      "Knights of Badassdom\n",
      "Joni\n",
      "Hostile Border\n",
      "Honest Thief\n",
      "Harold and Maude\n",
      "Green is Gold\n",
      "Gleason\n",
      "Gimme Danger\n",
      "Generation Wealth\n",
      "Falcon Rising\n",
      "ETs Among Us: UFO Witnesses and Whistleblowers\n",
      "ETs Among Us 2: Our Alien Origins, Antarctica, Mars and Beyond\n",
      "Crips and Bloods: Made in America\n",
      "Cool World\n",
      "City of Ghosts\n",
      "Chocolate City\n",
      "Chicken People\n",
      "Catch Hell\n",
      "Brad's Status\n",
      "Boynton Beach Club\n",
      "Blow The Man Down\n",
      "Black Robe\n",
      "Beyond the Sky\n",
      "Be Somebody\n",
      "Barista\n",
      "Ashley\n",
      "Any Day Now\n",
      "A Girl Like Her\n",
      "36 Husbands\n",
      "The Mothman of Point Pleasant\n",
      "The Goldfinch\n",
      "The Big Sick\n",
      "Midnight Crossing\n",
      "Never Surrender: A Galaxy Quest Documentary\n",
      "Blood Fest\n",
      "The Last Black Man in San Francisco\n",
      "The Identical\n",
      "The Hiding Place\n",
      "The Busy Little Engine\n",
      "Resurrection of Jake The Snake\n",
      "Primal Rage\n",
      "Painted Horses\n",
      "It's A Wonderful Life (Black & White Version)\n",
      "Dead Space: Aftermath\n",
      "Can We Take a Joke?\n",
      "The Wall\n",
      "Manhunt: Search for the Night Stalker\n",
      "Milk Money\n",
      "Time\n",
      "Dudes & Dragons\n",
      "Sharknado 2: The Second One\n",
      "Next\n",
      "Little Secrets\n",
      "World Trade Center\n",
      "Wonderstruck\n",
      "The Pollinators\n",
      "It's A Wonderful Life\n",
      "Trust Me\n",
      "Nocturne\n",
      "Jeff, Who Lives at Home\n",
      "Plato's Reality Machine\n",
      "Jade\n",
      "Uncle Frank\n",
      "Chemical Hearts\n",
      "One Child Nation\n",
      "Late Night\n",
      "Crown Heights\n",
      "Available\n",
      "Manchester by the Sea\n",
      "Mike Case in: The Big Kiss Off\n",
      "The Manchurian Candidate (2004)\n",
      "Brother Nature\n",
      "Guava Island\n",
      "Voyage to the Planet of Prehistoric Women\n",
      "Goblin\n",
      "At Granny's House\n",
      "Without a Paddle: Nature's Calling\n",
      "You Belong to Me: Sex, Race and Murder in the South\n",
      "I'm Your Woman\n",
      "P!nk: All I Know So Far\n",
      "Sharknado\n",
      "Knives Out (4K UHD)\n",
      "Twilight\n",
      "Little White Lie\n",
      "Human experiments\n",
      "Heartburn\n",
      "The Lie\n",
      "Sylvie's Love\n",
      "One Night in Miami...\n",
      "Knives Out\n",
      "I See You\n",
      "Black Box\n",
      "Beautiful Boy\n",
      "Evil Eye\n",
      "Devil's Island\n",
      "The Map of Tiny Perfect Things\n",
      "Sound of Metal\n",
      "Sharing the Secret\n",
      "LOL\n",
      "Copper Bill\n",
      "The Tomorrow War\n",
      "Minority Report\n",
      "Our Friend\n",
      "Lo and Behold, Reveries of the Connected World\n",
      "In the Year 2889\n",
      "At the Fork\n",
      "A Lonely Woman\n",
      "Separate Lives\n",
      "Secret Window\n",
      "Patriot Games (4K UHD)\n",
      "Finding Ophelia\n",
      "Emerald Run\n",
      "Dawn of the Beast\n",
      "The Florentine\n",
      "Tracers\n",
      "Let's Dream\n",
      "The Dangerous Lives of Altar Boys\n",
      "Nancy\n",
      "Permanent Midnight\n",
      "He Who Lives In Hidden Lakes\n",
      "Montana\n",
      "Santa Who?\n",
      "Patriot Games\n",
      "Big Mommas: Like Father, Like Son\n",
      "Armageddon\n",
      "Dirty 30\n",
      "Blue Mountain State: The Rise Of Thadland\n",
      "Stuart Little 2\n",
      "She's Out of My League\n",
      "Experimenter\n",
      "Ape vs. Monster\n",
      "The Report\n",
      "An American Girl Story: Summer Camp, Friends For Life\n",
      "Windcroft\n",
      "Last Action Hero (4K UHD)\n",
      "Last Action Hero\n",
      "Heartbreakers\n",
      "Exorcist: The Beginning\n",
      "Die Hard\n",
      "Top Five\n",
      "Wishmaster\n",
      "Die Hard 2 (4K UHD)\n",
      "Basement Jack\n",
      "Bride Wars\n",
      "What Happens in Vegas\n",
      "Marley & Me\n",
      "Love & Other Drugs\n",
      "Little Miss Sunshine\n"
     ]
    }
   ],
   "source": [
    "import csv\n",
    "with open(\"C:/excel/ex.csv\",\"r\")as amazon:\n",
    "    file=csv.reader(amazon)\n",
    "    \n",
    "    for i in file:\n",
    "        if i[1]==\"Movie\":\n",
    "            if i[5]==\"United States\":\n",
    "                print(i[2])"
   ]
  },
  {
   "attachments": {},
   "cell_type": "markdown",
   "metadata": {},
   "source": [
    "#what is the game of rating?"
   ]
  },
  {
   "cell_type": "code",
   "execution_count": 10,
   "metadata": {},
   "outputs": [],
   "source": [
    "import csv\n",
    "with open(\"C:/games.csv\",\"r\")as games:\n",
    "    file=csv.reader(games)\n",
    "    \n",
    "    for i in file:\n",
    "        if i[1]==\"4.5\":\n",
    "            if i[11]==\"17K\":\n",
    "                print(i[5])"
   ]
  },
  {
   "cell_type": "code",
   "execution_count": 1,
   "metadata": {},
   "outputs": [],
   "source": [
    "import csv\n",
    "with open(\"C:/Users/abhis/OneDrive/Desktop/cars.csv\",\"r\")as cars:\n",
    "    file=csv.reader(cars)\n",
    "    \n",
    "    for i in file:\n",
    "        if i[0]==\"Car Make\":\n",
    "            if i[1]==\"Car Model\":\n",
    "                print(i[4])"
   ]
  },
  {
   "cell_type": "code",
   "execution_count": 11,
   "metadata": {},
   "outputs": [
    {
     "name": "stdout",
     "output_type": "stream",
     "text": [
      "['BR', 'BN', 'BB', 'BQ', 'BK', 'BB', 'BN', 'BR']\n",
      "['BP', 'BP', 'BP', 'BP', 'BP', 'BP', 'BP', 'BP']\n",
      "['--', '--', '--', '--', '--', '--', '--', '--']\n",
      "['--', '--', '--', '--', '--', '--', '--', '--']\n",
      "['--', '--', '--', '--', '--', '--', '--', '--']\n",
      "['--', '--', '--', '--', '--', '--', '--', '--']\n",
      "['WP', 'WP', 'WP', 'WP', 'WP', 'WP', 'WP', 'WP']\n",
      "['WR', 'WN', 'WB', 'WQ', 'WK', 'WB', 'WN', 'WR']\n"
     ]
    }
   ],
   "source": [
    "class ChessBoard:\n",
    "    def __init__(self):\n",
    "        self.board = [['BR', 'BN', 'BB', 'BQ', 'BK', 'BB', 'BN', 'BR'],\n",
    "                      ['BP', 'BP', 'BP', 'BP', 'BP', 'BP', 'BP', 'BP'],\n",
    "                      ['--', '--', '--', '--', '--', '--', '--', '--'],\n",
    "                      ['--', '--', '--', '--', '--', '--', '--', '--'],\n",
    "                      ['--', '--', '--', '--', '--', '--', '--', '--'],\n",
    "                      ['--', '--', '--', '--', '--', '--', '--', '--'],\n",
    "                      ['WP', 'WP', 'WP', 'WP', 'WP', 'WP', 'WP', 'WP'],\n",
    "                      ['WR', 'WN', 'WB', 'WQ', 'WK', 'WB', 'WN', 'WR']]\n",
    "                      \n",
    "    def print_board(self):\n",
    "        for row in self.board:\n",
    "            print(row)\n",
    "            \n",
    "chess_board = ChessBoard()\n",
    "chess_board.print_board()\n"
   ]
  },
  {
   "cell_type": "code",
   "execution_count": 2,
   "metadata": {},
   "outputs": [
    {
     "name": "stdout",
     "output_type": "stream",
     "text": [
      "Welcome to the Number Guessing Game!\n",
      "I'm thinking of a number between 1 and 100.\n",
      "Too low! Try again.\n",
      "Too low! Try again.\n"
     ]
    },
    {
     "ename": "ValueError",
     "evalue": "invalid literal for int() with base 10: ''",
     "output_type": "error",
     "traceback": [
      "\u001b[1;31m---------------------------------------------------------------------------\u001b[0m",
      "\u001b[1;31mValueError\u001b[0m                                Traceback (most recent call last)",
      "\u001b[1;32m~\\AppData\\Local\\Temp\\ipykernel_2400\\2002089747.py\u001b[0m in \u001b[0;36m<module>\u001b[1;34m\u001b[0m\n\u001b[0;32m     11\u001b[0m \u001b[1;33m\u001b[0m\u001b[0m\n\u001b[0;32m     12\u001b[0m \u001b[1;32mwhile\u001b[0m \u001b[0mguess\u001b[0m \u001b[1;33m!=\u001b[0m \u001b[0msecret_number\u001b[0m\u001b[1;33m:\u001b[0m\u001b[1;33m\u001b[0m\u001b[1;33m\u001b[0m\u001b[0m\n\u001b[1;32m---> 13\u001b[1;33m     \u001b[0mguess\u001b[0m \u001b[1;33m=\u001b[0m \u001b[0mint\u001b[0m\u001b[1;33m(\u001b[0m\u001b[0minput\u001b[0m\u001b[1;33m(\u001b[0m\u001b[1;34m\"Take a guess: \"\u001b[0m\u001b[1;33m)\u001b[0m\u001b[1;33m)\u001b[0m\u001b[1;33m\u001b[0m\u001b[1;33m\u001b[0m\u001b[0m\n\u001b[0m\u001b[0;32m     14\u001b[0m     \u001b[0mnum_attempts\u001b[0m \u001b[1;33m+=\u001b[0m \u001b[1;36m1\u001b[0m\u001b[1;33m\u001b[0m\u001b[1;33m\u001b[0m\u001b[0m\n\u001b[0;32m     15\u001b[0m \u001b[1;33m\u001b[0m\u001b[0m\n",
      "\u001b[1;31mValueError\u001b[0m: invalid literal for int() with base 10: ''"
     ]
    }
   ],
   "source": [
    "import random\n",
    "\n",
    "# Generate a random number between 1 and 100\n",
    "secret_number = random.randint(1, 100)\n",
    "\n",
    "print(\"Welcome to the Number Guessing Game!\")\n",
    "print(\"I'm thinking of a number between 1 and 100.\")\n",
    "\n",
    "guess = None\n",
    "num_attempts = 0\n",
    "\n",
    "while guess != secret_number:\n",
    "    guess = int(input(\"Take a guess: \"))\n",
    "    num_attempts += 1\n",
    "\n",
    "    if guess < secret_number:\n",
    "        print(\"Too low! Try again.\")\n",
    "    elif guess > secret_number:\n",
    "        print(\"Too high! Try again.\")\n",
    "    else:\n",
    "        print(f\"Congratulations! You guessed the number in {num_attempts} attempts.\")\n"
   ]
  },
  {
   "cell_type": "code",
   "execution_count": 3,
   "metadata": {},
   "outputs": [
    {
     "name": "stdout",
     "output_type": "stream",
     "text": [
      "\n",
      "Player 1's turn:\n",
      "You rolled a 3!\n",
      "Player 1's position: 3\n",
      "\n",
      "\n",
      "Player 2's turn:\n",
      "You rolled a 1!\n",
      "Yay! You found a ladder. Climbing up to position 38.\n",
      "Player 2's position: 38\n",
      "\n",
      "\n",
      "Player 1's turn:\n",
      "You rolled a 6!\n",
      "Yay! You found a ladder. Climbing up to position 31.\n",
      "Player 1's position: 31\n",
      "\n",
      "\n",
      "Player 2's turn:\n",
      "You rolled a 3!\n",
      "Player 2's position: 41\n",
      "\n",
      "\n",
      "Player 1's turn:\n",
      "You rolled a 6!\n",
      "Player 1's position: 37\n",
      "\n",
      "\n",
      "Player 2's turn:\n",
      "You rolled a 5!\n",
      "Player 2's position: 46\n",
      "\n",
      "\n",
      "Player 1's turn:\n",
      "You rolled a 4!\n",
      "Player 1's position: 41\n",
      "\n",
      "\n",
      "Player 2's turn:\n",
      "You rolled a 4!\n",
      "Player 2's position: 50\n",
      "\n",
      "\n",
      "Player 1's turn:\n",
      "You rolled a 6!\n",
      "Oops! You got bitten by a snake. Moving down to position 26.\n",
      "Player 1's position: 26\n",
      "\n",
      "\n",
      "Player 2's turn:\n",
      "You rolled a 4!\n",
      "Player 2's position: 54\n",
      "\n",
      "\n",
      "Player 1's turn:\n",
      "You rolled a 6!\n",
      "Player 1's position: 32\n",
      "\n",
      "\n",
      "Player 2's turn:\n",
      "You rolled a 1!\n",
      "Player 2's position: 55\n",
      "\n",
      "\n",
      "Player 1's turn:\n",
      "You rolled a 5!\n",
      "Player 1's position: 37\n",
      "\n",
      "\n",
      "Player 2's turn:\n",
      "You rolled a 5!\n",
      "Player 2's position: 60\n",
      "\n",
      "\n",
      "Player 1's turn:\n"
     ]
    },
    {
     "ename": "KeyboardInterrupt",
     "evalue": "Interrupted by user",
     "output_type": "error",
     "traceback": [
      "\u001b[1;31m---------------------------------------------------------------------------\u001b[0m",
      "\u001b[1;31mKeyboardInterrupt\u001b[0m                         Traceback (most recent call last)",
      "\u001b[1;32m~\\AppData\\Local\\Temp\\ipykernel_2400\\2282756769.py\u001b[0m in \u001b[0;36m<module>\u001b[1;34m\u001b[0m\n\u001b[0;32m     34\u001b[0m     \u001b[1;32mfor\u001b[0m \u001b[0mplayer\u001b[0m \u001b[1;32min\u001b[0m \u001b[0mplayers\u001b[0m\u001b[1;33m:\u001b[0m\u001b[1;33m\u001b[0m\u001b[1;33m\u001b[0m\u001b[0m\n\u001b[0;32m     35\u001b[0m         \u001b[0mprint\u001b[0m\u001b[1;33m(\u001b[0m\u001b[1;34mf\"\\n{player['name']}'s turn:\"\u001b[0m\u001b[1;33m)\u001b[0m\u001b[1;33m\u001b[0m\u001b[1;33m\u001b[0m\u001b[0m\n\u001b[1;32m---> 36\u001b[1;33m         \u001b[0minput\u001b[0m\u001b[1;33m(\u001b[0m\u001b[1;34m\"Press Enter to roll the dice...\"\u001b[0m\u001b[1;33m)\u001b[0m\u001b[1;33m\u001b[0m\u001b[1;33m\u001b[0m\u001b[0m\n\u001b[0m\u001b[0;32m     37\u001b[0m \u001b[1;33m\u001b[0m\u001b[0m\n\u001b[0;32m     38\u001b[0m         \u001b[1;31m# Roll the dice\u001b[0m\u001b[1;33m\u001b[0m\u001b[1;33m\u001b[0m\u001b[0m\n",
      "\u001b[1;32mc:\\Users\\abhis\\anaconda3\\lib\\site-packages\\ipykernel\\kernelbase.py\u001b[0m in \u001b[0;36mraw_input\u001b[1;34m(self, prompt)\u001b[0m\n\u001b[0;32m   1175\u001b[0m                 \u001b[1;34m\"raw_input was called, but this frontend does not support input requests.\"\u001b[0m\u001b[1;33m\u001b[0m\u001b[1;33m\u001b[0m\u001b[0m\n\u001b[0;32m   1176\u001b[0m             )\n\u001b[1;32m-> 1177\u001b[1;33m         return self._input_request(\n\u001b[0m\u001b[0;32m   1178\u001b[0m             \u001b[0mstr\u001b[0m\u001b[1;33m(\u001b[0m\u001b[0mprompt\u001b[0m\u001b[1;33m)\u001b[0m\u001b[1;33m,\u001b[0m\u001b[1;33m\u001b[0m\u001b[1;33m\u001b[0m\u001b[0m\n\u001b[0;32m   1179\u001b[0m             \u001b[0mself\u001b[0m\u001b[1;33m.\u001b[0m\u001b[0m_parent_ident\u001b[0m\u001b[1;33m[\u001b[0m\u001b[1;34m\"shell\"\u001b[0m\u001b[1;33m]\u001b[0m\u001b[1;33m,\u001b[0m\u001b[1;33m\u001b[0m\u001b[1;33m\u001b[0m\u001b[0m\n",
      "\u001b[1;32mc:\\Users\\abhis\\anaconda3\\lib\\site-packages\\ipykernel\\kernelbase.py\u001b[0m in \u001b[0;36m_input_request\u001b[1;34m(self, prompt, ident, parent, password)\u001b[0m\n\u001b[0;32m   1217\u001b[0m             \u001b[1;32mexcept\u001b[0m \u001b[0mKeyboardInterrupt\u001b[0m\u001b[1;33m:\u001b[0m\u001b[1;33m\u001b[0m\u001b[1;33m\u001b[0m\u001b[0m\n\u001b[0;32m   1218\u001b[0m                 \u001b[1;31m# re-raise KeyboardInterrupt, to truncate traceback\u001b[0m\u001b[1;33m\u001b[0m\u001b[1;33m\u001b[0m\u001b[0m\n\u001b[1;32m-> 1219\u001b[1;33m                 \u001b[1;32mraise\u001b[0m \u001b[0mKeyboardInterrupt\u001b[0m\u001b[1;33m(\u001b[0m\u001b[1;34m\"Interrupted by user\"\u001b[0m\u001b[1;33m)\u001b[0m \u001b[1;32mfrom\u001b[0m \u001b[1;32mNone\u001b[0m\u001b[1;33m\u001b[0m\u001b[1;33m\u001b[0m\u001b[0m\n\u001b[0m\u001b[0;32m   1220\u001b[0m             \u001b[1;32mexcept\u001b[0m \u001b[0mException\u001b[0m\u001b[1;33m:\u001b[0m\u001b[1;33m\u001b[0m\u001b[1;33m\u001b[0m\u001b[0m\n\u001b[0;32m   1221\u001b[0m                 \u001b[0mself\u001b[0m\u001b[1;33m.\u001b[0m\u001b[0mlog\u001b[0m\u001b[1;33m.\u001b[0m\u001b[0mwarning\u001b[0m\u001b[1;33m(\u001b[0m\u001b[1;34m\"Invalid Message:\"\u001b[0m\u001b[1;33m,\u001b[0m \u001b[0mexc_info\u001b[0m\u001b[1;33m=\u001b[0m\u001b[1;32mTrue\u001b[0m\u001b[1;33m)\u001b[0m\u001b[1;33m\u001b[0m\u001b[1;33m\u001b[0m\u001b[0m\n",
      "\u001b[1;31mKeyboardInterrupt\u001b[0m: Interrupted by user"
     ]
    }
   ],
   "source": [
    "import random\n",
    "\n",
    "# Function to roll a dice\n",
    "def roll_dice():\n",
    "    return random.randint(1, 6)\n",
    "\n",
    "# Function to update player position based on snakes and ladders\n",
    "def update_position(position):\n",
    "    snakes = {16: 6, 47: 26, 49: 11, 56: 53, 62: 19, 64: 60, 87: 24, 93: 73, 95: 75, 98: 78}\n",
    "    ladders = {1: 38, 4: 14, 9: 31, 21: 42, 28: 84, 36: 44, 51: 67, 71: 91, 80: 100}\n",
    "\n",
    "    if position in snakes:\n",
    "        print(f\"Oops! You got bitten by a snake. Moving down to position {snakes[position]}.\")\n",
    "        return snakes[position]\n",
    "    elif position in ladders:\n",
    "        print(f\"Yay! You found a ladder. Climbing up to position {ladders[position]}.\")\n",
    "        return ladders[position]\n",
    "\n",
    "    return position\n",
    "\n",
    "# Function to check if a player has won\n",
    "def check_win(position):\n",
    "    return position >= 100\n",
    "\n",
    "# Initialize players\n",
    "players = [\n",
    "    {\"name\": \"Player 1\", \"position\": 0},\n",
    "    {\"name\": \"Player 2\", \"position\": 0}\n",
    "]\n",
    "\n",
    "# Main game loop\n",
    "while True:\n",
    "    # Iterate over players\n",
    "    for player in players:\n",
    "        print(f\"\\n{player['name']}'s turn:\")\n",
    "        input(\"Press Enter to roll the dice...\")\n",
    "\n",
    "        # Roll the dice\n",
    "        dice_roll = roll_dice()\n",
    "        print(f\"You rolled a {dice_roll}!\")\n",
    "\n",
    "        # Update player position\n",
    "        player[\"position\"] += dice_roll\n",
    "        player[\"position\"] = update_position(player[\"position\"])\n",
    "\n",
    "        # Check if the player has won\n",
    "        if check_win(player[\"position\"]):\n",
    "            print(f\"\\nCongratulations! {player['name']} wins!\")\n",
    "            exit()\n",
    "\n",
    "        # Print the player's current position\n",
    "        print(f\"{player['name']}'s position: {player['position']}\\n\")\n"
   ]
  },
  {
   "cell_type": "code",
   "execution_count": 4,
   "metadata": {},
   "outputs": [],
   "source": [
    "from random import choice\n",
    "from turtle import *\n",
    "\n",
    "from freegames import floor, vector\n",
    "\n",
    "state = {'score': 0}\n",
    "path = Turtle(visible=False)\n",
    "writer = Turtle(visible=False)\n",
    "aim = vector(5, 0)\n",
    "pacman = vector(-40, -80)\n",
    "ghosts = [\n",
    "    [vector(-180, 160), vector(5, 0)],\n",
    "    [vector(-180, -160), vector(0, 5)],\n",
    "    [vector(100, 160), vector(0, -5)],\n",
    "    [vector(100, -160), vector(-5, 0)],\n",
    "]\n",
    "# fmt: off\n",
    "tiles = [\n",
    "    0, 0, 0, 0, 0, 0, 0, 0, 0, 0, 0, 0, 0, 0, 0, 0, 0, 0, 0, 0,\n",
    "    0, 1, 1, 1, 1, 1, 1, 1, 0, 1, 1, 1, 1, 1, 1, 1, 0, 0, 0, 0,\n",
    "    0, 1, 0, 0, 1, 0, 0, 1, 0, 1, 0, 0, 1, 0, 0, 1, 0, 0, 0, 0,\n",
    "    0, 1, 1, 1, 1, 1, 1, 1, 1, 1, 1, 1, 1, 1, 1, 1, 0, 0, 0, 0,\n",
    "    0, 1, 0, 0, 1, 0, 1, 0, 0, 0, 1, 0, 1, 0, 0, 1, 0, 0, 0, 0,\n",
    "    0, 1, 1, 1, 1, 0, 1, 1, 0, 1, 1, 0, 1, 1, 1, 1, 0, 0, 0, 0,\n",
    "    0, 1, 0, 0, 1, 0, 0, 1, 0, 1, 0, 0, 1, 0, 0, 0, 0, 0, 0, 0,\n",
    "    0, 1, 0, 0, 1, 0, 1, 1, 1, 1, 1, 0, 1, 0, 0, 0, 0, 0, 0, 0,\n",
    "    0, 1, 1, 1, 1, 1, 1, 0, 0, 0, 1, 1, 1, 1, 1, 1, 0, 0, 0, 0,\n",
    "    0, 0, 0, 0, 1, 0, 1, 1, 1, 1, 1, 0, 1, 0, 0, 1, 0, 0, 0, 0,\n",
    "    0, 0, 0, 0, 1, 0, 1, 0, 0, 0, 1, 0, 1, 0, 0, 1, 0, 0, 0, 0,\n",
    "    0, 1, 1, 1, 1, 1, 1, 1, 0, 1, 1, 1, 1, 1, 1, 1, 0, 0, 0, 0,\n",
    "    0, 1, 0, 0, 1, 0, 0, 1, 0, 1, 0, 0, 0, 0, 0, 1, 0, 0, 0, 0,\n",
    "    0, 1, 1, 0, 1, 1, 1, 1, 1, 1, 1, 1, 1, 0, 1, 1, 0, 0, 0, 0,\n",
    "    0, 0, 1, 0, 1, 0, 1, 0, 0, 0, 1, 0, 1, 0, 1, 0, 0, 0, 0, 0,\n",
    "    0, 1, 1, 1, 1, 0, 1, 1, 0, 1, 1, 0, 1, 1, 1, 1, 0, 0, 0, 0,\n",
    "    0, 1, 0, 0, 0, 0, 0, 1, 0, 1, 0, 0, 0, 0, 0, 1, 0, 0, 0, 0,\n",
    "    0, 1, 1, 1, 1, 1, 1, 1, 1, 1, 1, 1, 1, 1, 1, 1, 0, 0, 0, 0,\n",
    "    0, 0, 0, 0, 0, 0, 0, 0, 0, 0, 0, 0, 0, 0, 0, 0, 0, 0, 0, 0,\n",
    "    0, 0, 0, 0, 0, 0, 0, 0, 0, 0, 0, 0, 0, 0, 0, 0, 0, 0, 0, 0,\n",
    "]\n",
    "# fmt: on\n",
    "\n",
    "\n",
    "def square(x, y):\n",
    "    \"\"\"Draw square using path at (x, y).\"\"\"\n",
    "    path.up()\n",
    "    path.goto(x, y)\n",
    "    path.down()\n",
    "    path.begin_fill()\n",
    "\n",
    "    for count in range(4):\n",
    "        path.forward(20)\n",
    "        path.left(90)\n",
    "\n",
    "    path.end_fill()\n",
    "\n",
    "\n",
    "def offset(point):\n",
    "    \"\"\"Return offset of point in tiles.\"\"\"\n",
    "    x = (floor(point.x, 20) + 200) / 20\n",
    "    y = (180 - floor(point.y, 20)) / 20\n",
    "    index = int(x + y * 20)\n",
    "    return index\n",
    "\n",
    "\n",
    "def valid(point):\n",
    "    \"\"\"Return True if point is valid in tiles.\"\"\"\n",
    "    index = offset(point)\n",
    "\n",
    "    if tiles[index] == 0:\n",
    "        return False\n",
    "\n",
    "    index = offset(point + 19)\n",
    "\n",
    "    if tiles[index] == 0:\n",
    "        return False\n",
    "\n",
    "    return point.x % 20 == 0 or point.y % 20 == 0\n",
    "\n",
    "\n",
    "def world():\n",
    "    \"\"\"Draw world using path.\"\"\"\n",
    "    bgcolor('black')\n",
    "    path.color('blue')\n",
    "\n",
    "    for index in range(len(tiles)):\n",
    "        tile = tiles[index]\n",
    "\n",
    "        if tile > 0:\n",
    "            x = (index % 20) * 20 - 200\n",
    "            y = 180 - (index // 20) * 20\n",
    "            square(x, y)\n",
    "\n",
    "            if tile == 1:\n",
    "                path.up()\n",
    "                path.goto(x + 10, y + 10)\n",
    "                path.dot(2, 'white')\n",
    "\n",
    "\n",
    "def move():\n",
    "    \"\"\"Move pacman and all ghosts.\"\"\"\n",
    "    writer.undo()\n",
    "    writer.write(state['score'])\n",
    "\n",
    "    clear()\n",
    "\n",
    "    if valid(pacman + aim):\n",
    "        pacman.move(aim)\n",
    "\n",
    "    index = offset(pacman)\n",
    "\n",
    "    if tiles[index] == 1:\n",
    "        tiles[index] = 2\n",
    "        state['score'] += 1\n",
    "        x = (index % 20) * 20 - 200\n",
    "        y = 180 - (index // 20) * 20\n",
    "        square(x, y)\n",
    "\n",
    "    up()\n",
    "    goto(pacman.x + 10, pacman.y + 10)\n",
    "    dot(20, 'yellow')\n",
    "\n",
    "    for point, course in ghosts:\n",
    "        if valid(point + course):\n",
    "            point.move(course)\n",
    "        else:\n",
    "            options = [\n",
    "                vector(5, 0),\n",
    "                vector(-5, 0),\n",
    "                vector(0, 5),\n",
    "                vector(0, -5),\n",
    "            ]\n",
    "            plan = choice(options)\n",
    "            course.x = plan.x\n",
    "            course.y = plan.y\n",
    "\n",
    "        up()\n",
    "        goto(point.x + 10, point.y + 10)\n",
    "        dot(20, 'red')\n",
    "\n",
    "    update()\n",
    "\n",
    "    for point, course in ghosts:\n",
    "        if abs(pacman - point) < 20:\n",
    "            return\n",
    "\n",
    "    ontimer(move, 100)\n",
    "\n",
    "\n",
    "def change(x, y):\n",
    "    \"\"\"Change pacman aim if valid.\"\"\"\n",
    "    if valid(pacman + vector(x, y)):\n",
    "        aim.x = x\n",
    "        aim.y = y\n",
    "\n",
    "\n",
    "setup(420, 420, 370, 0)\n",
    "hideturtle()\n",
    "tracer(False)\n",
    "writer.goto(160, 160)\n",
    "writer.color('white')\n",
    "writer.write(state['score'])\n",
    "listen()\n",
    "onkey(lambda: change(5, 0), 'Right')\n",
    "onkey(lambda: change(-5, 0), 'Left')\n",
    "onkey(lambda: change(0, 5), 'Up')\n",
    "onkey(lambda: change(0, -5), 'Down')\n",
    "world()\n",
    "move()\n",
    "done()\n",
    "\n",
    "\n"
   ]
  },
  {
   "cell_type": "code",
   "execution_count": 2,
   "metadata": {},
   "outputs": [
    {
     "name": "stdout",
     "output_type": "stream",
     "text": [
      "(255, 0, 127)\n"
     ]
    }
   ],
   "source": [
    "# Define RGB values\n",
    "red = 255\n",
    "green = 0\n",
    "blue = 127\n",
    "\n",
    "# Create RGB color tuple\n",
    "rgb = (red, green, blue)\n",
    "\n",
    "# Print the RGB color tuple\n",
    "print(rgb)\n"
   ]
  }
 ],
 "metadata": {
  "kernelspec": {
   "display_name": "base",
   "language": "python",
   "name": "python3"
  },
  "language_info": {
   "codemirror_mode": {
    "name": "ipython",
    "version": 3
   },
   "file_extension": ".py",
   "mimetype": "text/x-python",
   "name": "python",
   "nbconvert_exporter": "python",
   "pygments_lexer": "ipython3",
   "version": "3.9.13"
  },
  "orig_nbformat": 4,
  "vscode": {
   "interpreter": {
    "hash": "c78599019583e1cc8ec8211fef8090213879948681afdf9098fe61079571de81"
   }
  }
 },
 "nbformat": 4,
 "nbformat_minor": 2
}
