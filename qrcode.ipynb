{
 "cells": [
  {
   "cell_type": "code",
   "execution_count": 1,
   "metadata": {},
   "outputs": [],
   "source": [
    "\n",
    "import qrcode\n",
    "data = 'QR Code using make() function'\n",
    "img = qrcode.make(data)\n",
    "img.save('MyQRCode1.png')\n"
   ]
  },
  {
   "cell_type": "code",
   "execution_count": 3,
   "metadata": {},
   "outputs": [],
   "source": [
    "\n",
    "import qrcode\n",
    "\n",
    "data = \"GeeksforGeeks\"\n",
    "qr = qrcode.QRCode(version = 1,\n",
    "\t\t\t\tbox_size = 10,\n",
    "\t\t\t\tborder = 5)\n",
    "qr.add_data(data)\n",
    "\n",
    "qr.make(fit = True)\n",
    "img = qr.make_image(fill_color = 'Blue',\n",
    "\t\t\t\t\tback_color = 'yellow')\n",
    "\n",
    "img.save('MyQRCode2.png')\n"
   ]
  }
 ],
 "metadata": {
  "kernelspec": {
   "display_name": "base",
   "language": "python",
   "name": "python3"
  },
  "language_info": {
   "codemirror_mode": {
    "name": "ipython",
    "version": 3
   },
   "file_extension": ".py",
   "mimetype": "text/x-python",
   "name": "python",
   "nbconvert_exporter": "python",
   "pygments_lexer": "ipython3",
   "version": "3.9.13"
  },
  "orig_nbformat": 4
 },
 "nbformat": 4,
 "nbformat_minor": 2
}
