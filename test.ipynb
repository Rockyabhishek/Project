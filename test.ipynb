{
 "cells": [
  {
   "attachments": {},
   "cell_type": "markdown",
   "metadata": {},
   "source": [
    "dictonary"
   ]
  },
  {
   "cell_type": "code",
   "execution_count": 4,
   "metadata": {},
   "outputs": [
    {
     "name": "stdout",
     "output_type": "stream",
     "text": [
      "{'name': 'john', 'age': 35}\n"
     ]
    }
   ],
   "source": [
    "key=[\"name\",'age']\n",
    "values=['john',35]\n",
    "dictonary=dict(zip(key,values))\n",
    "print(dictonary)"
   ]
  },
  {
   "attachments": {},
   "cell_type": "markdown",
   "metadata": {},
   "source": [
    "largest no"
   ]
  },
  {
   "cell_type": "code",
   "execution_count": 9,
   "metadata": {},
   "outputs": [
    {
     "name": "stdout",
     "output_type": "stream",
     "text": [
      "c is large\n"
     ]
    }
   ],
   "source": [
    "a = 10\n",
    "b = 5\n",
    "c = 20\n",
    "\n",
    "if a > b and a > c:\n",
    "    print(\"a is large\")\n",
    "elif b > c:\n",
    "    print(\"b is large\")\n",
    "else:\n",
    "    print(\"c is large\")\n",
    "  "
   ]
  },
  {
   "attachments": {},
   "cell_type": "markdown",
   "metadata": {},
   "source": [
    "prime "
   ]
  },
  {
   "cell_type": "markdown",
   "metadata": {},
   "source": []
  },
  {
   "cell_type": "code",
   "execution_count": 12,
   "metadata": {},
   "outputs": [
    {
     "name": "stdout",
     "output_type": "stream",
     "text": [
      "3 is a prime no\n"
     ]
    }
   ],
   "source": [
    "num = int(input(\"Enter a no: \"))\n",
    "if num > 1:\n",
    "    for i in range(2, num):\n",
    "        if num % i == 0:\n",
    "            print(num, \"is not a prime no\")\n",
    "            break\n",
    "    else:\n",
    "        print(num, \"is a prime no\")\n",
    "else:\n",
    "    print(num, \"is not a prime no\")\n"
   ]
  },
  {
   "attachments": {},
   "cell_type": "markdown",
   "metadata": {},
   "source": [
    "even or odd"
   ]
  },
  {
   "cell_type": "code",
   "execution_count": 10,
   "metadata": {},
   "outputs": [
    {
     "name": "stdout",
     "output_type": "stream",
     "text": [
      "given no is odd\n"
     ]
    }
   ],
   "source": [
    "n=5\n",
    "if(n%2==0):\n",
    "    print(\"Given no is even\")\n",
    "else:\n",
    "    print(\"given no is odd\")"
   ]
  },
  {
   "attachments": {},
   "cell_type": "markdown",
   "metadata": {},
   "source": [
    "SIMPLE INTEREST"
   ]
  },
  {
   "cell_type": "code",
   "execution_count": 14,
   "metadata": {},
   "outputs": [
    {
     "name": "stdout",
     "output_type": "stream",
     "text": [
      "The simple interest for a principal of 7500 at an annual interest rate of 12 percent for a time duration of 10 years is 9000.0\n"
     ]
    }
   ],
   "source": [
    "principal = 7500  # Principal amount\n",
    "rate = 12      # Annual interest rate in percent\n",
    "time = 10        # Time duration in years\n",
    "\n",
    "interest = (principal * rate * time) / 100\n",
    "\n",
    "print(\"The simple interest for a principal of\", principal, \"at an annual interest rate of\", rate, \"percent for a time duration of\", time, \"years is\", interest)\n"
   ]
  }
 ],
 "metadata": {
  "kernelspec": {
   "display_name": "base",
   "language": "python",
   "name": "python3"
  },
  "language_info": {
   "codemirror_mode": {
    "name": "ipython",
    "version": 3
   },
   "file_extension": ".py",
   "mimetype": "text/x-python",
   "name": "python",
   "nbconvert_exporter": "python",
   "pygments_lexer": "ipython3",
   "version": "3.9.13"
  },
  "orig_nbformat": 4
 },
 "nbformat": 4,
 "nbformat_minor": 2
}
